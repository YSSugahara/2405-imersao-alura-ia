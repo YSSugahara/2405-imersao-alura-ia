{
  "nbformat": 4,
  "nbformat_minor": 0,
  "metadata": {
    "colab": {
      "provenance": [],
      "authorship_tag": "ABX9TyP7/SwFEcSb2kNDBWBwcsG2",
      "include_colab_link": true
    },
    "kernelspec": {
      "name": "python3",
      "display_name": "Python 3"
    },
    "language_info": {
      "name": "python"
    }
  },
  "cells": [
    {
      "cell_type": "markdown",
      "metadata": {
        "id": "view-in-github",
        "colab_type": "text"
      },
      "source": [
        "<a href=\"https://colab.research.google.com/github/YSSugahara/2405-imersao-alura-ia/blob/main/240509_aula4.ipynb\" target=\"_parent\"><img src=\"https://colab.research.google.com/assets/colab-badge.svg\" alt=\"Open In Colab\"/></a>"
      ]
    },
    {
      "cell_type": "code",
      "source": [
        "# Imersão IA 2ª edição\n",
        "# Aula 4\n",
        "# Nome: Yuji Samuel Sugahara"
      ],
      "metadata": {
        "id": "1ul2x9vv6KXM"
      },
      "execution_count": 49,
      "outputs": []
    },
    {
      "cell_type": "code",
      "execution_count": 50,
      "metadata": {
        "id": "06iaffIb2UtQ"
      },
      "outputs": [],
      "source": [
        "# Instalacao do pacote do Google Generative Ai\n",
        "!pip install -q -U google-generativeai"
      ]
    },
    {
      "cell_type": "code",
      "source": [
        "# Importacao\n",
        "import google.generativeai as genai\n",
        "from google.colab import userdata\n",
        "\n",
        "# Forma de subir a API key de forma secreta\n",
        "API_KEY = userdata.get(\"SECRET_KEY\")\n",
        "\n",
        "# Setup\n",
        "GOOGLE_API_KEY = API_KEY\n",
        "genai.configure(api_key=GOOGLE_API_KEY)"
      ],
      "metadata": {
        "id": "V67HlcXF4Ed_"
      },
      "execution_count": 51,
      "outputs": []
    },
    {
      "cell_type": "code",
      "source": [
        "#  Verificando os modelos presentes na API\n",
        "for m in genai.list_models():\n",
        "  if 'generateContent' in m.supported_generation_methods:\n",
        "    print(m.name)\n",
        "\n",
        "# gemini-1.5-pro-latest (Hoje: 09.05.24), ainda nao aceita as\n",
        "# configuracoes customizadas"
      ],
      "metadata": {
        "colab": {
          "base_uri": "https://localhost:8080/",
          "height": 139
        },
        "id": "vQxJ5n_16SLQ",
        "outputId": "e804b128-802a-40de-bc0e-c25540f7d75f"
      },
      "execution_count": 52,
      "outputs": [
        {
          "output_type": "stream",
          "name": "stdout",
          "text": [
            "models/gemini-1.0-pro\n",
            "models/gemini-1.0-pro-001\n",
            "models/gemini-1.0-pro-latest\n",
            "models/gemini-1.0-pro-vision-latest\n",
            "models/gemini-1.5-pro-latest\n",
            "models/gemini-pro\n",
            "models/gemini-pro-vision\n"
          ]
        }
      ]
    },
    {
      "cell_type": "code",
      "source": [
        "# Setup da IA\n",
        "generation_config = {\n",
        "    \"candidate_count\": 1,\n",
        "    \"temperature\": 0.5,\n",
        "    # \"top_p\" entre 0 e 1\n",
        "    # \"top_k\" entre 0 e 1\n",
        "}"
      ],
      "metadata": {
        "id": "GE_NEhIh8BVv"
      },
      "execution_count": 53,
      "outputs": []
    },
    {
      "cell_type": "code",
      "source": [
        "# Setup de segurança da IA\n",
        "# BLOCK NONE, BLOCK FEW, BLOCK SOME (defaut), BLOCK MOST\n",
        "safety_settings = {\n",
        "    \"HARASSMENT\": \"BLOCK_NONE\",\n",
        "    \"HATE\": \"BLOCK_NONE\",\n",
        "    \"SEXUAL\": \"BLOCK_NONE\",\n",
        "    \"DANGEROUS\": \"BLOCK_NONE\",\n",
        "}"
      ],
      "metadata": {
        "id": "S3xmgZZu8hf_"
      },
      "execution_count": 54,
      "outputs": []
    },
    {
      "cell_type": "code",
      "source": [
        "# Inicializando o modelo\n",
        "model = genai.GenerativeModel(\"gemini-1.0-pro\",\n",
        "                              safety_settings = safety_settings,\n",
        "                              generation_config = generation_config)"
      ],
      "metadata": {
        "id": "5Zvj1Zih5O2p"
      },
      "execution_count": 55,
      "outputs": []
    },
    {
      "cell_type": "code",
      "source": [
        "# Teste do modelo\n",
        "response = model.generate_content(\"Vamos aprender conteúdo sobre IA. Me dê sugestões.\")\n",
        "# print(response)\n",
        "print(response.text)"
      ],
      "metadata": {
        "colab": {
          "base_uri": "https://localhost:8080/",
          "height": 972
        },
        "id": "ajXSqQLc-Ynb",
        "outputId": "d11342de-dc95-4424-e841-c3990398a818"
      },
      "execution_count": 56,
      "outputs": [
        {
          "output_type": "stream",
          "name": "stdout",
          "text": [
            "**Conceitos Fundamentais**\n",
            "\n",
            "* O que é Inteligência Artificial (IA)?\n",
            "* Tipos de IA (IA fraca, IA forte, IA geral)\n",
            "* Aprendizado de máquina, aprendizado profundo e redes neurais\n",
            "* Processamento de linguagem natural (PNL)\n",
            "* Visão computacional\n",
            "\n",
            "**Aplicações da IA**\n",
            "\n",
            "* Automação de processos\n",
            "* Análise preditiva e tomada de decisão\n",
            "* Reconhecimento de padrões e detecção de anomalias\n",
            "* Chatbots e assistentes virtuais\n",
            "* Veículos autônomos\n",
            "\n",
            "**Implicações Éticas e Sociais**\n",
            "\n",
            "* Viés na IA\n",
            "* Privacidade e segurança de dados\n",
            "* Desemprego tecnológico\n",
            "* Regulamentação e governança da IA\n",
            "\n",
            "**Tendências e Avanços**\n",
            "\n",
            "* Aprendizado federado\n",
            "* IA quântica\n",
            "* IA generativa\n",
            "* Metaverso\n",
            "\n",
            "**Recursos para Aprendizado**\n",
            "\n",
            "**Cursos Online:**\n",
            "\n",
            "* Curso de IA da Universidade de Stanford\n",
            "* Curso de IA da Coursera\n",
            "* Curso de IA do MIT OpenCourseWare\n",
            "\n",
            "**Livros:**\n",
            "\n",
            "* \"Inteligência Artificial: Uma Abordagem Moderna\" por Stuart Russell e Peter Norvig\n",
            "* \"Aprendizado de Máquina\" por Tom Mitchell\n",
            "* \"Aprendizado Profundo\" por Ian Goodfellow, Yoshua Bengio e Aaron Courville\n",
            "\n",
            "**Revistas:**\n",
            "\n",
            "* Nature Machine Intelligence\n",
            "* Journal of Artificial Intelligence Research\n",
            "* IEEE Transactions on Neural Networks and Learning Systems\n",
            "\n",
            "**Organizações e Comunidades:**\n",
            "\n",
            "* Associação para o Avanço da Inteligência Artificial (AAAI)\n",
            "* Instituto de Engenheiros Elétricos e Eletrônicos (IEEE)\n",
            "* Grupo de Interesse Especial em IA (SIGAI)\n"
          ]
        }
      ]
    },
    {
      "cell_type": "code",
      "source": [
        "# Inicializando o chat\n",
        "chat = model.start_chat(history=[])"
      ],
      "metadata": {
        "id": "xKjwKEKZ-wQv"
      },
      "execution_count": 57,
      "outputs": []
    },
    {
      "cell_type": "code",
      "source": [
        "prompt = input('Esperando prompt: ')\n",
        "\n",
        "# Estipulando criterios de parada\n",
        "while prompt != \"fim\":\n",
        "  response = chat.send_message(prompt)\n",
        "  print(\"Resposta:\", response.text, '\\n\\n')\n",
        "  prompt = input('Esperando prompt: ')\n"
      ],
      "metadata": {
        "colab": {
          "base_uri": "https://localhost:8080/",
          "height": 243
        },
        "id": "11BEXNvT_KYz",
        "outputId": "e55d3dff-5808-4baa-b760-8494aa806ff9"
      },
      "execution_count": 58,
      "outputs": [
        {
          "name": "stdout",
          "output_type": "stream",
          "text": [
            "Esperando prompt: Qual a capital do Japão\n",
            "Resposta: Tóquio \n",
            "\n",
            "\n",
            "Esperando prompt: Comida típica dessa cidade\n",
            "Resposta: Sushi \n",
            "\n",
            "\n",
            "Esperando prompt: Tenho um amigo que nasceu nessa cidade, qual a nacionalidade dele\n",
            "Resposta: Japonesa \n",
            "\n",
            "\n",
            "Esperando prompt: fim\n"
          ]
        }
      ]
    },
    {
      "cell_type": "code",
      "source": [
        "#Melhorando a visualização\n",
        "#Código disponível em https://ai.google.dev/tutorials/python_quickstart#import_packages\n",
        "import textwrap\n",
        "from IPython.display import display\n",
        "from IPython.display import Markdown\n",
        "\n",
        "def to_markdown(text):\n",
        "  text = text.replace('•', '  *')\n",
        "  return Markdown(textwrap.indent(text, '> ', predicate=lambda _: True))\n",
        "\n",
        "#Imprimindo o histórico\n",
        "for message in chat.history:\n",
        "  display(to_markdown(f'**{message.role}**: {message.parts[0].text}'))\n",
        "  print('-------------------------------------------')"
      ],
      "metadata": {
        "colab": {
          "base_uri": "https://localhost:8080/",
          "height": 393
        },
        "id": "SjtwWkbDAxqE",
        "outputId": "745f71b2-bc19-4217-93e1-73b3bcb15a80"
      },
      "execution_count": 59,
      "outputs": [
        {
          "output_type": "display_data",
          "data": {
            "text/plain": [
              "<IPython.core.display.Markdown object>"
            ],
            "text/markdown": "> **user**: Qual a capital do Japão"
          },
          "metadata": {}
        },
        {
          "output_type": "stream",
          "name": "stdout",
          "text": [
            "-------------------------------------------\n"
          ]
        },
        {
          "output_type": "display_data",
          "data": {
            "text/plain": [
              "<IPython.core.display.Markdown object>"
            ],
            "text/markdown": "> **model**: Tóquio"
          },
          "metadata": {}
        },
        {
          "output_type": "stream",
          "name": "stdout",
          "text": [
            "-------------------------------------------\n"
          ]
        },
        {
          "output_type": "display_data",
          "data": {
            "text/plain": [
              "<IPython.core.display.Markdown object>"
            ],
            "text/markdown": "> **user**: Comida típica dessa cidade"
          },
          "metadata": {}
        },
        {
          "output_type": "stream",
          "name": "stdout",
          "text": [
            "-------------------------------------------\n"
          ]
        },
        {
          "output_type": "display_data",
          "data": {
            "text/plain": [
              "<IPython.core.display.Markdown object>"
            ],
            "text/markdown": "> **model**: Sushi"
          },
          "metadata": {}
        },
        {
          "output_type": "stream",
          "name": "stdout",
          "text": [
            "-------------------------------------------\n"
          ]
        },
        {
          "output_type": "display_data",
          "data": {
            "text/plain": [
              "<IPython.core.display.Markdown object>"
            ],
            "text/markdown": "> **user**: Tenho um amigo que nasceu nessa cidade, qual a nacionalidade dele"
          },
          "metadata": {}
        },
        {
          "output_type": "stream",
          "name": "stdout",
          "text": [
            "-------------------------------------------\n"
          ]
        },
        {
          "output_type": "display_data",
          "data": {
            "text/plain": [
              "<IPython.core.display.Markdown object>"
            ],
            "text/markdown": "> **model**: Japonesa"
          },
          "metadata": {}
        },
        {
          "output_type": "stream",
          "name": "stdout",
          "text": [
            "-------------------------------------------\n"
          ]
        }
      ]
    }
  ]
}